{
 "cells": [
  {
   "cell_type": "markdown",
   "id": "205615be",
   "metadata": {},
   "source": [
    "## Import the required libraries"
   ]
  },
  {
   "cell_type": "code",
   "execution_count": 11,
   "id": "cf3150e4",
   "metadata": {},
   "outputs": [],
   "source": [
    "import pandas as pd\n",
    "import numpy as np\n",
    "import pickle\n",
    "from pandas import Timestamp\n",
    "import statsmodels.api as sm"
   ]
  },
  {
   "cell_type": "markdown",
   "id": "513c560f",
   "metadata": {},
   "source": [
    "## Get input from user"
   ]
  },
  {
   "cell_type": "code",
   "execution_count": 13,
   "id": "5373299f",
   "metadata": {
    "collapsed": true
   },
   "outputs": [
    {
     "ename": "KeyboardInterrupt",
     "evalue": "Interrupted by user",
     "output_type": "error",
     "traceback": [
      "\u001b[1;31m---------------------------------------------------------------------------\u001b[0m",
      "\u001b[1;31mKeyboardInterrupt\u001b[0m                         Traceback (most recent call last)",
      "Cell \u001b[1;32mIn[13], line 1\u001b[0m\n\u001b[1;32m----> 1\u001b[0m Date \u001b[38;5;241m=\u001b[39m \u001b[38;5;28;43minput\u001b[39;49m\u001b[43m(\u001b[49m\u001b[38;5;124;43m\"\u001b[39;49m\u001b[38;5;124;43mEnter the future date (YYYY-MM-DD): \u001b[39;49m\u001b[38;5;124;43m\"\u001b[39;49m\u001b[43m)\u001b[49m\n\u001b[0;32m      2\u001b[0m Coin \u001b[38;5;241m=\u001b[39m  \u001b[38;5;28minput\u001b[39m(\u001b[38;5;124m\"\u001b[39m\u001b[38;5;124mEnter the cryptocurrency type (bitcoin, ethereum, litecoin): \u001b[39m\u001b[38;5;124m\"\u001b[39m)\n\u001b[0;32m      3\u001b[0m Date\n",
      "File \u001b[1;32m~\\anaconda3\\envs\\tf\\lib\\site-packages\\ipykernel\\kernelbase.py:1191\u001b[0m, in \u001b[0;36mKernel.raw_input\u001b[1;34m(self, prompt)\u001b[0m\n\u001b[0;32m   1189\u001b[0m     msg \u001b[38;5;241m=\u001b[39m \u001b[38;5;124m\"\u001b[39m\u001b[38;5;124mraw_input was called, but this frontend does not support input requests.\u001b[39m\u001b[38;5;124m\"\u001b[39m\n\u001b[0;32m   1190\u001b[0m     \u001b[38;5;28;01mraise\u001b[39;00m StdinNotImplementedError(msg)\n\u001b[1;32m-> 1191\u001b[0m \u001b[38;5;28;01mreturn\u001b[39;00m \u001b[38;5;28;43mself\u001b[39;49m\u001b[38;5;241;43m.\u001b[39;49m\u001b[43m_input_request\u001b[49m\u001b[43m(\u001b[49m\n\u001b[0;32m   1192\u001b[0m \u001b[43m    \u001b[49m\u001b[38;5;28;43mstr\u001b[39;49m\u001b[43m(\u001b[49m\u001b[43mprompt\u001b[49m\u001b[43m)\u001b[49m\u001b[43m,\u001b[49m\n\u001b[0;32m   1193\u001b[0m \u001b[43m    \u001b[49m\u001b[38;5;28;43mself\u001b[39;49m\u001b[38;5;241;43m.\u001b[39;49m\u001b[43m_parent_ident\u001b[49m\u001b[43m[\u001b[49m\u001b[38;5;124;43m\"\u001b[39;49m\u001b[38;5;124;43mshell\u001b[39;49m\u001b[38;5;124;43m\"\u001b[39;49m\u001b[43m]\u001b[49m\u001b[43m,\u001b[49m\n\u001b[0;32m   1194\u001b[0m \u001b[43m    \u001b[49m\u001b[38;5;28;43mself\u001b[39;49m\u001b[38;5;241;43m.\u001b[39;49m\u001b[43mget_parent\u001b[49m\u001b[43m(\u001b[49m\u001b[38;5;124;43m\"\u001b[39;49m\u001b[38;5;124;43mshell\u001b[39;49m\u001b[38;5;124;43m\"\u001b[39;49m\u001b[43m)\u001b[49m\u001b[43m,\u001b[49m\n\u001b[0;32m   1195\u001b[0m \u001b[43m    \u001b[49m\u001b[43mpassword\u001b[49m\u001b[38;5;241;43m=\u001b[39;49m\u001b[38;5;28;43;01mFalse\u001b[39;49;00m\u001b[43m,\u001b[49m\n\u001b[0;32m   1196\u001b[0m \u001b[43m\u001b[49m\u001b[43m)\u001b[49m\n",
      "File \u001b[1;32m~\\anaconda3\\envs\\tf\\lib\\site-packages\\ipykernel\\kernelbase.py:1234\u001b[0m, in \u001b[0;36mKernel._input_request\u001b[1;34m(self, prompt, ident, parent, password)\u001b[0m\n\u001b[0;32m   1231\u001b[0m \u001b[38;5;28;01mexcept\u001b[39;00m \u001b[38;5;167;01mKeyboardInterrupt\u001b[39;00m:\n\u001b[0;32m   1232\u001b[0m     \u001b[38;5;66;03m# re-raise KeyboardInterrupt, to truncate traceback\u001b[39;00m\n\u001b[0;32m   1233\u001b[0m     msg \u001b[38;5;241m=\u001b[39m \u001b[38;5;124m\"\u001b[39m\u001b[38;5;124mInterrupted by user\u001b[39m\u001b[38;5;124m\"\u001b[39m\n\u001b[1;32m-> 1234\u001b[0m     \u001b[38;5;28;01mraise\u001b[39;00m \u001b[38;5;167;01mKeyboardInterrupt\u001b[39;00m(msg) \u001b[38;5;28;01mfrom\u001b[39;00m \u001b[38;5;28;01mNone\u001b[39;00m\n\u001b[0;32m   1235\u001b[0m \u001b[38;5;28;01mexcept\u001b[39;00m \u001b[38;5;167;01mException\u001b[39;00m:\n\u001b[0;32m   1236\u001b[0m     \u001b[38;5;28mself\u001b[39m\u001b[38;5;241m.\u001b[39mlog\u001b[38;5;241m.\u001b[39mwarning(\u001b[38;5;124m\"\u001b[39m\u001b[38;5;124mInvalid Message:\u001b[39m\u001b[38;5;124m\"\u001b[39m, exc_info\u001b[38;5;241m=\u001b[39m\u001b[38;5;28;01mTrue\u001b[39;00m)\n",
      "\u001b[1;31mKeyboardInterrupt\u001b[0m: Interrupted by user"
     ]
    }
   ],
   "source": [
    "Date = input(\"Enter the future date (YYYY-MM-DD): \")\n",
    "Coin =  input(\"Enter the cryptocurrency type (bitcoin, ethereum, litecoin): \")\n"
   ]
  },
  {
   "cell_type": "code",
   "execution_count": 14,
   "id": "8673e6c9",
   "metadata": {},
   "outputs": [
    {
     "data": {
      "text/plain": [
       "'2023-08-17'"
      ]
     },
     "execution_count": 14,
     "metadata": {},
     "output_type": "execute_result"
    }
   ],
   "source": [
    "Date"
   ]
  },
  {
   "cell_type": "markdown",
   "id": "e467c5e0",
   "metadata": {},
   "source": [
    "## Get essential dataset and preprocess it"
   ]
  },
  {
   "cell_type": "code",
   "execution_count": 7,
   "id": "531716be",
   "metadata": {},
   "outputs": [],
   "source": [
    "df= pd.read_csv('crypto.csv', index_col=False)\n",
    "##Bitcoin\n",
    "\n",
    "bdf = df[df['Coin'] == 'Bitcoin']\n",
    "bdf = bdf.set_index('Date')\n",
    "bdf= bdf['Close']\n",
    "b = int(len(bdf) * 0.9)\n",
    "btrain = list(bdf[0:b])\n",
    "btest = list(bdf[b:])\n",
    "\n",
    "##ethereum\n",
    "\n",
    "edf = df[df['Coin'] == 'Ethereum']\n",
    "edf = edf.set_index('Date')\n",
    "edf= edf['Close']\n",
    "e = int(len(edf) * 0.9)\n",
    "etrain = list(edf[0:e])\n",
    "etest = list(edf[e:])\n",
    "\n",
    "##Litecoin\n",
    "\n",
    "ldf = df[df['Coin'] == 'Litecoin']\n",
    "ldf = ldf.set_index('Date')\n",
    "ldf= ldf['Close']\n",
    "l = int(len(ldf) * 0.9)\n",
    "ltrain = list(ldf[0:l])\n",
    "ltest = list(ldf[l:])"
   ]
  },
  {
   "cell_type": "markdown",
   "id": "0e952102",
   "metadata": {},
   "source": [
    "## Load the required models"
   ]
  },
  {
   "cell_type": "code",
   "execution_count": 5,
   "id": "5b0bfc7e",
   "metadata": {},
   "outputs": [],
   "source": [
    "with open(\"bmodel.pkl\", \"rb\") as file:\n",
    "    bmodel = pickle.load(file)\n",
    "with open(\"emodel.pkl\", \"rb\") as file:\n",
    "    emodel = pickle.load(file)\n",
    "with open(\"lmodel.pkl\", \"rb\") as file:\n",
    "    lmodel = pickle.load(file)"
   ]
  },
  {
   "cell_type": "markdown",
   "id": "026e8add",
   "metadata": {},
   "source": [
    "## Function to predict the prices"
   ]
  },
  {
   "cell_type": "code",
   "execution_count": 18,
   "id": "f50c31b8",
   "metadata": {},
   "outputs": [],
   "source": [
    "def predict_future_price(crypto_type, model_fit, train, date):\n",
    "    model_pred = []\n",
    "    predictions = []\n",
    "\n",
    "#     for date in future_dates:\n",
    "    train_data = train.copy()  # Create a copy of the training data for each iteration\n",
    "\n",
    "    # Make prediction for the future date\n",
    "    forecast = model_fit.forecast(steps=1)\n",
    "    prediction = forecast[0]\n",
    "    train_data.append(prediction)  # Update the copy of the training data with the predicted value\n",
    "\n",
    "    # Retrain the model with the updated training data\n",
    "    model = sm.tsa.arima.ARIMA(train_data, order=(4, 1, 0))\n",
    "    model_fit = model.fit()\n",
    "    model_pred.append(prediction)\n",
    "    predictions.append((date, prediction))\n",
    "\n",
    "    # Create a DataFrame for side-by-side comparison\n",
    "    df_predictions = pd.DataFrame(predictions, columns=['Date', 'Prediction'])\n",
    "    df_predictions.set_index('Date', inplace=True)\n",
    "\n",
    "    return model_pred, df_predictions, model_fit"
   ]
  },
  {
   "cell_type": "markdown",
   "id": "30b96772",
   "metadata": {},
   "source": [
    "## Predictions"
   ]
  },
  {
   "cell_type": "code",
   "execution_count": 26,
   "id": "fa6ad05f",
   "metadata": {},
   "outputs": [
    {
     "name": "stdout",
     "output_type": "stream",
     "text": [
      "Bitcoin Predictions:\n",
      "28490.44001292979\n",
      "28490.44001292979\n"
     ]
    }
   ],
   "source": [
    "if Coin == 'Bitcoin':\n",
    "    train = btrain\n",
    "    model_fit = bmodel\n",
    "    predictions, df_predictions, bmodel = predict_future_price(Coin, model_fit, train, Date)\n",
    "    with open(\"bmodel.pkl\", \"wb\") as file:\n",
    "        pickle.dump(bmodel, file)\n",
    "elif Coin == 'Ethereum':\n",
    "    train = etrain\n",
    "    model_fit = emodel\n",
    "    predictions, df_predictions, emodel = predict_future_price(Coin, model_fit, train, Date)\n",
    "    with open(\"emodel.pkl\", \"wb\") as file:\n",
    "        pickle.dump(emodel, file)\n",
    "    \n",
    "elif Coin == 'Litecoin':\n",
    "    train = ltrain\n",
    "    model_fit = lmodel\n",
    "    predictions, df_predictions, lmodel = predict_future_price(Coin, model_fit, train, Date)\n",
    "    with open(\"lmodel.pkl\", \"wb\") as file:\n",
    "        pickle.dump(lmodel, file)\n",
    "else:\n",
    "    raise ValueError(\"Invalid cryptocurrency type. Choose one from 'Bitcoin', 'Ethereum', or 'Litecoin'.\")\n",
    "\n",
    "# Print predictions for the specified cryptocurrency\n",
    "print(f\"{Coin.capitalize()} Predictions:\")\n",
    "print(df_predictions['Prediction'].values[0])\n",
    "\n",
    "print(predictions[0])"
   ]
  }
 ],
 "metadata": {
  "kernelspec": {
   "display_name": "Python 3 (ipykernel)",
   "language": "python",
   "name": "python3"
  },
  "language_info": {
   "codemirror_mode": {
    "name": "ipython",
    "version": 3
   },
   "file_extension": ".py",
   "mimetype": "text/x-python",
   "name": "python",
   "nbconvert_exporter": "python",
   "pygments_lexer": "ipython3",
   "version": "3.8.8"
  }
 },
 "nbformat": 4,
 "nbformat_minor": 5
}
