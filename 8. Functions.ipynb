{
 "cells": [
  {
   "cell_type": "markdown",
   "id": "104acf26",
   "metadata": {},
   "source": [
    "### Import the libraries"
   ]
  },
  {
   "cell_type": "code",
   "execution_count": 25,
   "id": "9ed096b6",
   "metadata": {},
   "outputs": [],
   "source": [
    "# Import the required libraries\n",
    "import pandas as pd\n",
    "import numpy as np\n",
    "import pickle\n",
    "import statsmodels.api as sm\n",
    "from pandas import Timestamp\n",
    "\n",
    "with open(\"bmodel.pkl\", \"rb\") as file:\n",
    "    bmodel = pickle.load(file)\n",
    "with open(\"emodel.pkl\", \"rb\") as file:\n",
    "    emodel = pickle.load(file)\n",
    "with open(\"lmodel.pkl\", \"rb\") as file:\n",
    "    lmodel = pickle.load(file)"
   ]
  },
  {
   "cell_type": "markdown",
   "id": "65bcfaed",
   "metadata": {},
   "source": [
    "### Define the Functions"
   ]
  },
  {
   "cell_type": "code",
   "execution_count": 61,
   "id": "522fd076",
   "metadata": {},
   "outputs": [],
   "source": [
    "def predict_future_price(crypto_type, model_fit, train, date):\n",
    "    model_pred = []\n",
    "    predictions = []\n",
    "\n",
    "#     for date in future_dates:\n",
    "    train_data = train.copy()  # Create a copy of the training data for each iteration\n",
    "\n",
    "    # Make prediction for the future date\n",
    "    forecast = model_fit.forecast(steps=1)\n",
    "    prediction = forecast[0]\n",
    "    train_data.append(prediction)  # Update the copy of the training data with the predicted value\n",
    "\n",
    "    # Retrain the model with the updated training data\n",
    "    model = sm.tsa.arima.ARIMA(train_data, order=(4, 1, 0))\n",
    "    model_fit = model.fit()\n",
    "    model_pred.append(prediction)\n",
    "    predictions.append((date, prediction))\n",
    "\n",
    "    # Create a DataFrame for side-by-side comparison\n",
    "    df_predictions = pd.DataFrame(predictions, columns=['Date', 'Prediction'])\n",
    "    df_predictions.set_index('Date', inplace=True)\n",
    "\n",
    "    return model_pred, df_predictions, model_fit"
   ]
  },
  {
   "cell_type": "code",
   "execution_count": 62,
   "id": "41b701fe",
   "metadata": {},
   "outputs": [],
   "source": [
    "# Function to simulate trading decisions\n",
    "def simulate_trading(predictions, latest):\n",
    "    # Define trading logic based on predictions\n",
    "    trading_decision = None\n",
    "    price_difference = predictions - latest\n",
    "    if abs(price_difference) <= 50:\n",
    "        trading_decision = \"Hold\"\n",
    "    elif price_difference > 50:\n",
    "        trading_decision = \"Sell\"\n",
    "    else:\n",
    "        trading_decision = \"Buy\"\n",
    "    return trading_decision"
   ]
  },
  {
   "cell_type": "code",
   "execution_count": 63,
   "id": "97a675e2",
   "metadata": {},
   "outputs": [],
   "source": [
    "# Main app code\n",
    "def main(Date, Coin):\n",
    "    with open(\"bmodel.pkl\", \"rb\") as file:\n",
    "        bmodel = pickle.load(file)\n",
    "    with open(\"emodel.pkl\", \"rb\") as file:\n",
    "        emodel = pickle.load(file)\n",
    "    with open(\"lmodel.pkl\", \"rb\") as file:\n",
    "        lmodel = pickle.load(file)\n",
    "    df= pd.read_csv('crypto.csv', index_col=False)\n",
    "    \n",
    "    ##Bitcoin\n",
    "    bdf = df[df['Coin'] == 'Bitcoin']\n",
    "    bdf = bdf.set_index('Date')\n",
    "    bdf= bdf['Close']\n",
    "    b = int(len(bdf) * 0.9)\n",
    "    btrain = list(bdf[0:b])\n",
    "    btest = list(bdf[b:])\n",
    "\n",
    "    ##ethereum\n",
    "    edf = df[df['Coin'] == 'Ethereum']\n",
    "    edf = edf.set_index('Date')\n",
    "    edf= edf['Close']\n",
    "    e = int(len(edf) * 0.9)\n",
    "    etrain = list(edf[0:e])\n",
    "    etest = list(edf[e:])\n",
    "\n",
    "    ##Litecoin\n",
    "    ldf = df[df['Coin'] == 'Litecoin']\n",
    "    ldf = ldf.set_index('Date')\n",
    "    ldf= ldf['Close']\n",
    "    l = int(len(ldf) * 0.9)\n",
    "    ltrain = list(ldf[0:l])\n",
    "    ltest = list(ldf[l:])\n",
    "  \n",
    "    if Coin == 'Bitcoin':\n",
    "        train = btrain\n",
    "        model_fit = bmodel\n",
    "        predictions, df_predictions, bmodel = predict_future_price(Coin, model_fit, train, Date)\n",
    "        latest = bdf[-1]\n",
    "        with open(\"bmodel.pkl\", \"wb\") as file:\n",
    "            pickle.dump(bmodel, file)\n",
    "    elif Coin == 'Ethereum':\n",
    "        train = etrain\n",
    "        model_fit = emodel\n",
    "        predictions, df_predictions, emodel = predict_future_price(Coin, model_fit, train, Date)\n",
    "        latest = edf[-1]\n",
    "        with open(\"emodel.pkl\", \"wb\") as file:\n",
    "            pickle.dump(emodel, file)\n",
    "\n",
    "    elif Coin == 'Litecoin':\n",
    "        train = ltrain\n",
    "        model_fit = lmodel\n",
    "        predictions, df_predictions, lmodel = predict_future_price(Coin, model_fit, train, Date)\n",
    "        latest = ldf[-1]\n",
    "        with open(\"lmodel.pkl\", \"wb\") as file:\n",
    "            pickle.dump(lmodel, file)\n",
    "    else:\n",
    "        raise ValueError(\"Invalid cryptocurrency type. Choose one from 'Bitcoin', 'Ethereum', or 'Litecoin'.\")\n",
    "\n",
    "\n",
    "    trading_decisions = simulate_trading(predictions[0], latest )\n",
    "\n",
    "    return predictions[0], trading_decisions\n",
    "\n",
    "\n",
    "\n"
   ]
  },
  {
   "cell_type": "markdown",
   "id": "adb2ec4d",
   "metadata": {},
   "source": [
    "### Data"
   ]
  },
  {
   "cell_type": "code",
   "execution_count": 65,
   "id": "efab4446",
   "metadata": {},
   "outputs": [
    {
     "name": "stdout",
     "output_type": "stream",
     "text": [
      "Enter the future date (YYYY-MM-DD): 2025-12-15\n",
      "Enter the cryptocurrency type (bitcoin, ethereum, litecoin): Ethereum\n"
     ]
    }
   ],
   "source": [
    "Date = input(\"Enter the future date (YYYY-MM-DD): \")\n",
    "Coin =  input(\"Enter the cryptocurrency type (bitcoin, ethereum, litecoin): \")\n",
    "\n"
   ]
  },
  {
   "cell_type": "markdown",
   "id": "94390b6a",
   "metadata": {},
   "source": [
    "### Output"
   ]
  },
  {
   "cell_type": "code",
   "execution_count": 66,
   "id": "22b31da4",
   "metadata": {},
   "outputs": [
    {
     "name": "stdout",
     "output_type": "stream",
     "text": [
      "(1756.3131242088764, 'Buy')\n"
     ]
    }
   ],
   "source": [
    "print(main(Date, Coin))"
   ]
  },
  {
   "cell_type": "markdown",
   "id": "59d18046",
   "metadata": {},
   "source": [
    "## Save the File as python file in .py extension and use that py file in the frontend."
   ]
  },
  {
   "cell_type": "code",
   "execution_count": 4,
   "id": "f43bab22",
   "metadata": {},
   "outputs": [
    {
     "name": "stdout",
     "output_type": "stream",
     "text": [
      "Enter Date: 2025-12-15\n",
      "Enter crypto coin type: Litecoin\n"
     ]
    }
   ],
   "source": [
    "#Here the files is saved as crypto7 in same directory\n",
    "import crypto8\n",
    "\n",
    "# # # Provide the Date and Coin values\n",
    "Date = input(\"Enter Date: \")\n",
    "Coin = input(\"Enter crypto coin type: \")\n",
    "\n"
   ]
  },
  {
   "cell_type": "code",
   "execution_count": 5,
   "id": "91ca0fa2",
   "metadata": {},
   "outputs": [
    {
     "name": "stdout",
     "output_type": "stream",
     "text": [
      "Predictions: 105.10531245055972\n",
      "Trading decisions: Hold\n"
     ]
    }
   ],
   "source": [
    "# Call the main function\n",
    "import crypto8\n",
    "\n",
    "results = crypto8.main(Date, Coin)\n",
    "\n",
    "# Retrieve the predictions and trading decisions\n",
    "predictions = results[0]\n",
    "trading_decisions = results[1]\n",
    "\n",
    "# Print the results\n",
    "print(\"Predictions:\", predictions)\n",
    "print(\"Trading decisions:\", trading_decisions)\n"
   ]
  }
 ],
 "metadata": {
  "kernelspec": {
   "display_name": "Python 3 (ipykernel)",
   "language": "python",
   "name": "python3"
  },
  "language_info": {
   "codemirror_mode": {
    "name": "ipython",
    "version": 3
   },
   "file_extension": ".py",
   "mimetype": "text/x-python",
   "name": "python",
   "nbconvert_exporter": "python",
   "pygments_lexer": "ipython3",
   "version": "3.8.18"
  }
 },
 "nbformat": 4,
 "nbformat_minor": 5
}
